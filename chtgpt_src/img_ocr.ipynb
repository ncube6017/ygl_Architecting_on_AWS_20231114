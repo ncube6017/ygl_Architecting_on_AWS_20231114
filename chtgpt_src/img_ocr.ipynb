{
 "cells": [
  {
   "cell_type": "code",
   "execution_count": 2,
   "metadata": {},
   "outputs": [
    {
     "name": "stderr",
     "output_type": "stream",
     "text": [
      "Exception in Tkinter callback\n",
      "Traceback (most recent call last):\n",
      "  File \"c:\\Users\\ETVL\\AppData\\Local\\Programs\\Python\\Python311\\Lib\\site-packages\\pytesseract\\pytesseract.py\", line 255, in run_tesseract\n",
      "    proc = subprocess.Popen(cmd_args, **subprocess_args())\n",
      "           ^^^^^^^^^^^^^^^^^^^^^^^^^^^^^^^^^^^^^^^^^^^^^^^\n",
      "  File \"c:\\Users\\ETVL\\AppData\\Local\\Programs\\Python\\Python311\\Lib\\subprocess.py\", line 1026, in __init__\n",
      "    self._execute_child(args, executable, preexec_fn, close_fds,\n",
      "  File \"c:\\Users\\ETVL\\AppData\\Local\\Programs\\Python\\Python311\\Lib\\subprocess.py\", line 1538, in _execute_child\n",
      "    hp, ht, pid, tid = _winapi.CreateProcess(executable, args,\n",
      "                       ^^^^^^^^^^^^^^^^^^^^^^^^^^^^^^^^^^^^^^^\n",
      "FileNotFoundError: [WinError 2] 지정된 파일을 찾을 수 없습니다\n",
      "\n",
      "During handling of the above exception, another exception occurred:\n",
      "\n",
      "Traceback (most recent call last):\n",
      "  File \"c:\\Users\\ETVL\\AppData\\Local\\Programs\\Python\\Python311\\Lib\\tkinter\\__init__.py\", line 1948, in __call__\n",
      "    return self.func(*args)\n",
      "           ^^^^^^^^^^^^^^^^\n",
      "  File \"C:\\Users\\ETVL\\AppData\\Local\\Temp\\ipykernel_11548\\3160446169.py\", line 11, in recognize_text\n",
      "    text = pytesseract.image_to_string(image)\n",
      "           ^^^^^^^^^^^^^^^^^^^^^^^^^^^^^^^^^^\n",
      "  File \"c:\\Users\\ETVL\\AppData\\Local\\Programs\\Python\\Python311\\Lib\\site-packages\\pytesseract\\pytesseract.py\", line 423, in image_to_string\n",
      "    return {\n",
      "           ^\n",
      "  File \"c:\\Users\\ETVL\\AppData\\Local\\Programs\\Python\\Python311\\Lib\\site-packages\\pytesseract\\pytesseract.py\", line 426, in <lambda>\n",
      "    Output.STRING: lambda: run_and_get_output(*args),\n",
      "                           ^^^^^^^^^^^^^^^^^^^^^^^^^\n",
      "  File \"c:\\Users\\ETVL\\AppData\\Local\\Programs\\Python\\Python311\\Lib\\site-packages\\pytesseract\\pytesseract.py\", line 288, in run_and_get_output\n",
      "    run_tesseract(**kwargs)\n",
      "  File \"c:\\Users\\ETVL\\AppData\\Local\\Programs\\Python\\Python311\\Lib\\site-packages\\pytesseract\\pytesseract.py\", line 260, in run_tesseract\n",
      "    raise TesseractNotFoundError()\n",
      "pytesseract.pytesseract.TesseractNotFoundError: tesseract is not installed or it's not in your PATH. See README file for more information.\n"
     ]
    }
   ],
   "source": [
    "import pytesseract\n",
    "from tkinter import filedialog\n",
    "from tkinter import *\n",
    "from PIL import Image\n",
    "\n",
    "# 이미지 선택 및 문자 인식 함수\n",
    "def recognize_text():\n",
    "    file_path = filedialog.askopenfilename(filetypes=[(\"Image files\", \"*.jpg *.png\")])\n",
    "    if file_path:\n",
    "        image = Image.open(file_path)\n",
    "        text = pytesseract.image_to_string(image)\n",
    "        text_output.config(state=NORMAL)\n",
    "        text_output.delete(1.0, END)\n",
    "        text_output.insert(END, text)\n",
    "        text_output.config(state=DISABLED)\n",
    "\n",
    "# GUI 생성\n",
    "root = Tk()\n",
    "root.title(\"이미지 문자 인식\")\n",
    "\n",
    "# 이미지 선택 버튼\n",
    "select_button = Button(root, text=\"이미지 선택\", command=recognize_text)\n",
    "select_button.pack(pady=10)\n",
    "\n",
    "# 인식된 문자 표시 창\n",
    "text_output = Text(root, height=10, width=40)\n",
    "text_output.config(state=DISABLED)\n",
    "text_output.pack(pady=10)\n",
    "\n",
    "root.mainloop()\n"
   ]
  },
  {
   "cell_type": "markdown",
   "metadata": {},
   "source": []
  }
 ],
 "metadata": {
  "kernelspec": {
   "display_name": "Python 3",
   "language": "python",
   "name": "python3"
  },
  "language_info": {
   "codemirror_mode": {
    "name": "ipython",
    "version": 3
   },
   "file_extension": ".py",
   "mimetype": "text/x-python",
   "name": "python",
   "nbconvert_exporter": "python",
   "pygments_lexer": "ipython3",
   "version": "3.11.4"
  }
 },
 "nbformat": 4,
 "nbformat_minor": 2
}
