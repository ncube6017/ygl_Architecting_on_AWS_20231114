{
 "cells": [
  {
   "cell_type": "code",
   "execution_count": 6,
   "metadata": {},
   "outputs": [
    {
     "name": "stdout",
     "output_type": "stream",
     "text": [
      "1. 종목 코드로 조회\n",
      "2. 종목명으로 조회\n",
      "3. 종료\n",
      "전일 종가: 종목 정보를 찾을 수 없습니다.\n",
      "현재 시가: 종목 정보를 찾을 수 없습니다.\n",
      "1. 종목 코드로 조회\n",
      "2. 종목명으로 조회\n",
      "3. 종료\n",
      "올바른 옵션을 선택하세요.\n",
      "1. 종목 코드로 조회\n",
      "2. 종목명으로 조회\n",
      "3. 종료\n",
      "올바른 옵션을 선택하세요.\n",
      "1. 종목 코드로 조회\n",
      "2. 종목명으로 조회\n",
      "3. 종료\n"
     ]
    }
   ],
   "source": [
    "import requests\n",
    "from bs4 import BeautifulSoup\n",
    "\n",
    "# 네이버 금융 주식 정보 페이지 URL\n",
    "url = \"https://finance.naver.com/item/main.naver?code=\"\n",
    "\n",
    "# 종목 코드를 종목명으로 매핑하는 딕셔너리\n",
    "stock_codes = {\n",
    "    \"삼성전자\": \"005930\",\n",
    "    \"현대차\": \"005380\",\n",
    "    # 다른 종목을 추가할 수 있습니다.\n",
    "}\n",
    "\n",
    "# 종목 코드를 입력받아 종가와 시가를 출력하는 함수\n",
    "def get_stock_info_by_code(stock_code):\n",
    "    response = requests.get(url + stock_code)\n",
    "    soup = BeautifulSoup(response.text, \"html.parser\")\n",
    "\n",
    "    # 요소를 찾을 때 예외 처리를 추가\n",
    "    try:\n",
    "        last_closing_price = soup.select_one(\"div.today > p.no_today > em.no_up > span.blind\").text\n",
    "        current_opening_price = soup.select_one(\"div.today > p.no_exday > em.no_up > span.blind\").text\n",
    "    except AttributeError:\n",
    "        return \"종목 정보를 찾을 수 없습니다.\", \"종목 정보를 찾을 수 없습니다.\"\n",
    "\n",
    "    return last_closing_price, current_opening_price\n",
    "\n",
    "# 종목명을 입력받아 종목 코드를 조회하는 함수\n",
    "def get_stock_code_by_name(stock_name):\n",
    "    if stock_name in stock_codes:\n",
    "        return stock_codes[stock_name]\n",
    "    else:\n",
    "        return \"종목을 찾을 수 없습니다.\"\n",
    "\n",
    "# 메인 함수\n",
    "def main():\n",
    "    while True:\n",
    "        print(\"1. 종목 코드로 조회\")\n",
    "        print(\"2. 종목명으로 조회\")\n",
    "        print(\"3. 종료\")\n",
    "        choice = input(\"원하는 작업을 선택하세요 (1/2/3): \")\n",
    "        \n",
    "        if choice == \"1\":\n",
    "            stock_code = input(\"종목 코드를 입력하세요: \")\n",
    "            last_closing_price, current_opening_price = get_stock_info_by_code(stock_code)\n",
    "            print(f\"전일 종가: {last_closing_price}\")\n",
    "            print(f\"현재 시가: {current_opening_price}\")\n",
    "        elif choice == \"2\":\n",
    "            stock_name = input(\"종목명을 입력하세요: \")\n",
    "            stock_code = get_stock_code_by_name(stock_name)\n",
    "            if stock_code != \"종목을 찾을 수 없습니다.\":\n",
    "                last_closing_price, current_opening_price = get_stock_info_by_code(stock_code)\n",
    "                print(f\"전일 종가: {last_closing_price}\")\n",
    "                print(f\"현재 시가: {current_opening_price}\")\n",
    "            else:\n",
    "                print(stock_code)\n",
    "        elif choice == \"3\":\n",
    "            break\n",
    "        else:\n",
    "            print(\"올바른 옵션을 선택하세요.\")\n",
    "\n",
    "if __name__ == \"__main__\":\n",
    "    main()\n"
   ]
  }
 ],
 "metadata": {
  "kernelspec": {
   "display_name": "Python 3",
   "language": "python",
   "name": "python3"
  },
  "language_info": {
   "codemirror_mode": {
    "name": "ipython",
    "version": 3
   },
   "file_extension": ".py",
   "mimetype": "text/x-python",
   "name": "python",
   "nbconvert_exporter": "python",
   "pygments_lexer": "ipython3",
   "version": "3.11.4"
  }
 },
 "nbformat": 4,
 "nbformat_minor": 2
}
