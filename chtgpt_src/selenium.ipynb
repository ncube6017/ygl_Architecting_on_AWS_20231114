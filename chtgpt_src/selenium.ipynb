{
 "cells": [
  {
   "cell_type": "code",
   "execution_count": 7,
   "metadata": {},
   "outputs": [
    {
     "name": "stdout",
     "output_type": "stream",
     "text": [
      "전청조, 해외 도피 꿈꾸나...“밀항 시도 중”\n"
     ]
    }
   ],
   "source": [
    "from selenium import webdriver\n",
    "from selenium.webdriver.common.by import By\n",
    "from selenium.webdriver.support.ui import WebDriverWait\n",
    "from selenium.webdriver.support import expected_conditions as EC\n",
    "from webdriver_manager.chrome import ChromeDriverManager\n",
    "from selenium.webdriver.chrome.options import Options\n",
    "from selenium.webdriver.chrome.service import Service\n",
    "import time\n",
    "\n",
    "# 자동으로 크롬 드라이버 다운로드 및 사용\n",
    "chrome_options = Options()\n",
    "chrome_options.add_experimental_option(\"detach\", False) #브라우저 꺼짐 방지 \n",
    "\n",
    "# 불필요한 에러 메시지 없애기\n",
    "chrome_options.add_experimental_option(\"excludeSwitches\", [\"enable-logging\"])\n",
    "# driver = webdriver.Chrome(options=chrome_options)\n",
    "driver = webdriver.Chrome(service=Service(ChromeDriverManager().install()), \n",
    "                          options=chrome_options)\n",
    "\n",
    "# 웹 사이트 접속\n",
    "driver.get('https://news.naver.com/')\n",
    "time.sleep(3)\n",
    "try:\n",
    "    # 원하는 데이터 추출 (최대 10초까지 대기)\n",
    "    element = WebDriverWait(driver, 10).until(\n",
    "        EC.presence_of_element_located((By.CSS_SELECTOR, '#ct > div > section.main_content > div.main_brick > div > div:nth-child(1) > div.main_brick_item._channel_news_preview_wrapper > div:nth-child(1) > div > div:nth-child(2) > a > div.cjs_news_tw > div'))\n",
    "    )\n",
    "    data = element.text\n",
    "    print(data)\n",
    "finally:\n",
    "    # 브라우저 닫기\n",
    "    driver.close()\n"
   ]
  }
 ],
 "metadata": {
  "kernelspec": {
   "display_name": "chatgpt",
   "language": "python",
   "name": "python3"
  },
  "language_info": {
   "codemirror_mode": {
    "name": "ipython",
    "version": 3
   },
   "file_extension": ".py",
   "mimetype": "text/x-python",
   "name": "python",
   "nbconvert_exporter": "python",
   "pygments_lexer": "ipython3",
   "version": "3.11.4"
  },
  "orig_nbformat": 4
 },
 "nbformat": 4,
 "nbformat_minor": 2
}
